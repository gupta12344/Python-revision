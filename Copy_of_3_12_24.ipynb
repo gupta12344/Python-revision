{
  "nbformat": 4,
  "nbformat_minor": 0,
  "metadata": {
    "colab": {
      "provenance": [],
      "authorship_tag": "ABX9TyPXoGsQzhmYH8f1nODVUD3/",
      "include_colab_link": true
    },
    "kernelspec": {
      "name": "python3",
      "display_name": "Python 3"
    },
    "language_info": {
      "name": "python"
    }
  },
  "cells": [
    {
      "cell_type": "markdown",
      "metadata": {
        "id": "view-in-github",
        "colab_type": "text"
      },
      "source": [
        "<a href=\"https://colab.research.google.com/github/gupta12344/Python-revision/blob/main/Copy_of_3_12_24.ipynb\" target=\"_parent\"><img src=\"https://colab.research.google.com/assets/colab-badge.svg\" alt=\"Open In Colab\"/></a>"
      ]
    },
    {
      "cell_type": "code",
      "execution_count": null,
      "metadata": {
        "colab": {
          "base_uri": "https://localhost:8080/"
        },
        "id": "WPu33BPs2XKB",
        "outputId": "7cf47d0b-52b6-4ef2-c626-9efae9f08a9a"
      },
      "outputs": [
        {
          "output_type": "stream",
          "name": "stdout",
          "text": [
            "hello\n"
          ]
        }
      ],
      "source": [
        "print(\"hello\")"
      ]
    },
    {
      "cell_type": "code",
      "source": [
        "n1=6\n",
        "n2=4\n",
        "n=n1+n2\n",
        "print(n)"
      ],
      "metadata": {
        "colab": {
          "base_uri": "https://localhost:8080/"
        },
        "id": "L_onOaA43v0o",
        "outputId": "d42fcc07-d890-4ed5-b314-cc7c69c76717"
      },
      "execution_count": null,
      "outputs": [
        {
          "output_type": "stream",
          "name": "stdout",
          "text": [
            "10\n"
          ]
        }
      ]
    },
    {
      "cell_type": "code",
      "source": [
        "n1=3\n",
        "n2=9\n",
        "if n1>n2:\n",
        "  print (\"n1 is largest number\")\n",
        "else:\n",
        "  print(\"n2 is largest\")"
      ],
      "metadata": {
        "colab": {
          "base_uri": "https://localhost:8080/"
        },
        "id": "vlD_T7KD3-ps",
        "outputId": "b669a268-675b-4df8-bc2a-2141f355882b"
      },
      "execution_count": null,
      "outputs": [
        {
          "output_type": "stream",
          "name": "stdout",
          "text": [
            "n2 is largest\n"
          ]
        }
      ]
    },
    {
      "cell_type": "code",
      "source": [
        "n1=int(input(\"enter the first required number\"))\n",
        "n2=int(input(\"enter the second required number\"))\n",
        "if n1>n2:\n",
        "  print(\"n1 is largest number\")\n",
        "else:\n",
        "  print(\"n2 is largest number\")"
      ],
      "metadata": {
        "colab": {
          "base_uri": "https://localhost:8080/"
        },
        "id": "9GQVAQOR4PJ5",
        "outputId": "75c3080c-ca8f-4412-9bc3-5d410295a38e"
      },
      "execution_count": null,
      "outputs": [
        {
          "output_type": "stream",
          "name": "stdout",
          "text": [
            "enter the first required number5\n",
            "enter the second required number2\n",
            "n1 is largest number\n"
          ]
        }
      ]
    },
    {
      "cell_type": "code",
      "source": [
        "p=int(input(\"enter the principal value\"))\n",
        "r=int(input(\"enter the value of rate\"))\n",
        "t=int(input(\"enter the time required\"))\n",
        "SI=(p*r*t)/100\n",
        "print(\"SI is\", SI)"
      ],
      "metadata": {
        "colab": {
          "base_uri": "https://localhost:8080/"
        },
        "id": "OkuW3LQr4uR2",
        "outputId": "7f06ed28-ca54-4846-89d7-5b28ad06ee36"
      },
      "execution_count": null,
      "outputs": [
        {
          "output_type": "stream",
          "name": "stdout",
          "text": [
            "enter the principal value3\n",
            "enter the value of rate4\n",
            "enter the time required5\n",
            "SI is 0.6\n"
          ]
        }
      ]
    },
    {
      "cell_type": "code",
      "source": [
        "r=int(input(\"enter the value of radius\"))\n",
        "area=3.14*(r**2)\n",
        "print(\"area of cirle is\",area)\n"
      ],
      "metadata": {
        "colab": {
          "base_uri": "https://localhost:8080/"
        },
        "id": "h0n4Q96R5UeI",
        "outputId": "ffa0c6ec-5563-437f-e6a7-2b1821aee159"
      },
      "execution_count": null,
      "outputs": [
        {
          "output_type": "stream",
          "name": "stdout",
          "text": [
            "enter the value of radius4\n",
            "area of cirle is 50.24\n"
          ]
        }
      ]
    },
    {
      "cell_type": "code",
      "source": [
        "n=15\n",
        "if n>1:\n",
        "  for i in range(2,(n//2)+1):\n",
        "      if n%i==0:\n",
        "         print(\"not prime\")\n",
        "         break\n",
        "  else:\n",
        "        print(\"Prime\")\n",
        "else:\n",
        "  print(\"not prime\")\n"
      ],
      "metadata": {
        "colab": {
          "base_uri": "https://localhost:8080/"
        },
        "id": "qSPMH14z6e-T",
        "outputId": "ba327c20-2170-4edf-a92e-4e9cd0e7b1e4"
      },
      "execution_count": null,
      "outputs": [
        {
          "output_type": "stream",
          "name": "stdout",
          "text": [
            "not prime\n"
          ]
        }
      ]
    },
    {
      "cell_type": "code",
      "source": [
        "n=3\n",
        "s=n**2\n",
        "print(s)"
      ],
      "metadata": {
        "colab": {
          "base_uri": "https://localhost:8080/"
        },
        "id": "qelHolQh7_T6",
        "outputId": "48b8887d-0751-4cb5-9771-945ea421dd77"
      },
      "execution_count": null,
      "outputs": [
        {
          "output_type": "stream",
          "name": "stdout",
          "text": [
            "9\n"
          ]
        }
      ]
    },
    {
      "cell_type": "code",
      "source": [
        "l=[]\n",
        "for i in range(10):\n",
        "  s=i**3\n",
        "  l.append(s)\n",
        "print(l)\n",
        "\n"
      ],
      "metadata": {
        "colab": {
          "base_uri": "https://localhost:8080/"
        },
        "id": "rzES0ebC8fk2",
        "outputId": "36a5a7bd-3a71-4644-a028-897c8a25b6c0"
      },
      "execution_count": null,
      "outputs": [
        {
          "output_type": "stream",
          "name": "stdout",
          "text": [
            "[0, 1, 8, 27, 64, 125, 216, 343, 512, 729]\n"
          ]
        }
      ]
    },
    {
      "cell_type": "code",
      "source": [
        "l=[]\n",
        "for i in range(21):\n",
        "  l.append(i**2)\n",
        "print(l)"
      ],
      "metadata": {
        "colab": {
          "base_uri": "https://localhost:8080/"
        },
        "id": "SBvR4wGN8t-p",
        "outputId": "6ce144df-ec3b-476a-bcd0-1e176957c4f5"
      },
      "execution_count": null,
      "outputs": [
        {
          "output_type": "stream",
          "name": "stdout",
          "text": [
            "[0, 1, 4, 9, 16, 25, 36, 49, 64, 81, 100, 121, 144, 169, 196, 225, 256, 289, 324, 361, 400]\n"
          ]
        }
      ]
    },
    {
      "cell_type": "code",
      "source": [
        "import math\n",
        "num=int(input(\"enter the number \"))\n",
        "factorial=math.factorial(num)\n",
        "print(f\" The factorial of \", num, \"is\", factorial)\n",
        "\n"
      ],
      "metadata": {
        "colab": {
          "base_uri": "https://localhost:8080/"
        },
        "id": "aGP2LbjO-QTw",
        "outputId": "41bbb760-4c41-4186-bcda-50748433785a"
      },
      "execution_count": null,
      "outputs": [
        {
          "output_type": "stream",
          "name": "stdout",
          "text": [
            "enter the number 5\n",
            " The factorial of  5 is 120\n"
          ]
        }
      ]
    },
    {
      "cell_type": "code",
      "source": [
        "fact=1\n",
        "for i in range(1,6):\n",
        "  fact=fact*i\n",
        "print(fact)"
      ],
      "metadata": {
        "colab": {
          "base_uri": "https://localhost:8080/"
        },
        "id": "xaYq48M4_0sG",
        "outputId": "fa2e13d4-d5d8-4b19-e6e2-9f50ddfab916"
      },
      "execution_count": null,
      "outputs": [
        {
          "output_type": "stream",
          "name": "stdout",
          "text": [
            "120\n"
          ]
        }
      ]
    },
    {
      "cell_type": "code",
      "source": [
        "l=[]\n",
        "a=0\n",
        "b=1\n",
        "for i in range(11):\n",
        "    l.append(a)\n",
        "    c=a+b\n",
        "    a=b\n",
        "    b=c\n",
        "print(l)\n"
      ],
      "metadata": {
        "colab": {
          "base_uri": "https://localhost:8080/"
        },
        "id": "_7RCizv0AM2Y",
        "outputId": "4191c21f-2c6c-4f95-9279-c9001b7c4e14"
      },
      "execution_count": null,
      "outputs": [
        {
          "output_type": "stream",
          "name": "stdout",
          "text": [
            "[0, 1, 1, 2, 3, 5, 8, 13, 21, 34, 55]\n"
          ]
        }
      ]
    },
    {
      "cell_type": "code",
      "source": [
        "num=2\n",
        "for i in range(1,11):\n",
        "   print(num ,\"*\",i ,\"=\",num*i)"
      ],
      "metadata": {
        "colab": {
          "base_uri": "https://localhost:8080/"
        },
        "id": "zUm823m8AnJ4",
        "outputId": "65b58b38-12a4-43af-b708-cbb89984b483"
      },
      "execution_count": null,
      "outputs": [
        {
          "output_type": "stream",
          "name": "stdout",
          "text": [
            "2 * 1 = 2\n",
            "2 * 2 = 4\n",
            "2 * 3 = 6\n",
            "2 * 4 = 8\n",
            "2 * 5 = 10\n",
            "2 * 6 = 12\n",
            "2 * 7 = 14\n",
            "2 * 8 = 16\n",
            "2 * 9 = 18\n",
            "2 * 10 = 20\n"
          ]
        }
      ]
    },
    {
      "cell_type": "code",
      "source": [
        "num=int(input(\"enter the number : \"))\n",
        "if num%2==0:\n",
        "  print(\"even number\")\n",
        "else:\n",
        "  print(\"odd number\")"
      ],
      "metadata": {
        "colab": {
          "base_uri": "https://localhost:8080/"
        },
        "id": "CRdDfoGoBepZ",
        "outputId": "14aeb328-01e6-4655-dac0-7026ea60a5f7"
      },
      "execution_count": null,
      "outputs": [
        {
          "output_type": "stream",
          "name": "stdout",
          "text": [
            "enter the number : 11\n",
            "odd number\n"
          ]
        }
      ]
    },
    {
      "cell_type": "code",
      "source": [
        "n=153\n",
        "s=n\n",
        "sum1=0\n",
        "l=len(str(n))\n",
        "while n!=0:\n",
        "   r=n % 10\n",
        "   sum1=sum1+(r**l)\n",
        "   n=n//10\n",
        "if s==sum1:\n",
        "  print(\"armstrong number\")\n",
        "else:\n",
        "  print(\"not armstrong number\")"
      ],
      "metadata": {
        "colab": {
          "base_uri": "https://localhost:8080/"
        },
        "id": "bR_cxRzqCavq",
        "outputId": "a1c31f4a-e236-4a74-aafb-c2b2bf1efd4b"
      },
      "execution_count": null,
      "outputs": [
        {
          "output_type": "stream",
          "name": "stdout",
          "text": [
            "armstrong number\n"
          ]
        }
      ]
    },
    {
      "cell_type": "code",
      "source": [
        "num=int(input(\"enter the number : \"))\n",
        "s=num\n",
        "l=len(str(num))\n",
        "sum1=0\n",
        "while num!=0:\n",
        "   r=num%10\n",
        "   sum1=sum1+r**l\n",
        "   num=num//10\n",
        "if s==sum1:\n",
        "  print(\"armstrong\")\n",
        "else:\n",
        "  print(\"not armstrong\")"
      ],
      "metadata": {
        "colab": {
          "base_uri": "https://localhost:8080/"
        },
        "id": "lRuNF9NPEaoj",
        "outputId": "827dcfc7-30d0-4fc9-c7ae-7b3f5856ae87"
      },
      "execution_count": null,
      "outputs": [
        {
          "output_type": "stream",
          "name": "stdout",
          "text": [
            "enter the number : 123\n",
            "not armstrong\n"
          ]
        }
      ]
    },
    {
      "cell_type": "code",
      "source": [
        "num=12345\n",
        "reverse=0\n",
        "while num>0:\n",
        "  r=num%10\n",
        "  reverse=reverse*10 + r\n",
        "  num=num//10\n",
        "print(reverse)"
      ],
      "metadata": {
        "colab": {
          "base_uri": "https://localhost:8080/"
        },
        "id": "0DpljIRZFV3k",
        "outputId": "815dca27-7623-46fb-944b-4cff7020e81c"
      },
      "execution_count": null,
      "outputs": [
        {
          "output_type": "stream",
          "name": "stdout",
          "text": [
            "54321\n"
          ]
        }
      ]
    },
    {
      "cell_type": "code",
      "source": [
        "num=154\n",
        "s=num\n",
        "reverse=0\n",
        "while num>0:\n",
        "    r=num%10\n",
        "    reverse=reverse*10 + r\n",
        "    num=num//10\n",
        "if s==reverse:\n",
        "    print(\"palindrom\")\n",
        "else:\n",
        "    print(\"not palindrom\")"
      ],
      "metadata": {
        "colab": {
          "base_uri": "https://localhost:8080/"
        },
        "id": "HF7ygsGyGBhn",
        "outputId": "7c4a6d3c-51be-4dbc-f9db-6ce5e4afd030"
      },
      "execution_count": null,
      "outputs": [
        {
          "output_type": "stream",
          "name": "stdout",
          "text": [
            "not palindrom\n"
          ]
        }
      ]
    },
    {
      "cell_type": "code",
      "source": [
        "for i in range(5):\n",
        "  for j in range(5):\n",
        "    print(\"*\",end=\" \")\n",
        "  print()"
      ],
      "metadata": {
        "colab": {
          "base_uri": "https://localhost:8080/"
        },
        "id": "dnjuarn1JPVO",
        "outputId": "71c9b03c-92eb-4f63-820b-1f3b4c708f0e"
      },
      "execution_count": null,
      "outputs": [
        {
          "output_type": "stream",
          "name": "stdout",
          "text": [
            "* * * * * \n",
            "* * * * * \n",
            "* * * * * \n",
            "* * * * * \n",
            "* * * * * \n"
          ]
        }
      ]
    },
    {
      "cell_type": "code",
      "source": [
        "n=5\n",
        "for i in range(n):\n",
        "  for j in range(i+1):\n",
        "    print(\"*\",end=\" \")\n",
        "  print()"
      ],
      "metadata": {
        "colab": {
          "base_uri": "https://localhost:8080/"
        },
        "id": "TdJGcmygPx39",
        "outputId": "52d5e94e-c065-4b39-ca8e-7061842a51ba"
      },
      "execution_count": null,
      "outputs": [
        {
          "output_type": "stream",
          "name": "stdout",
          "text": [
            "* \n",
            "* * \n",
            "* * * \n",
            "* * * * \n",
            "* * * * * \n"
          ]
        }
      ]
    },
    {
      "cell_type": "code",
      "source": [
        "n=5\n",
        "for i in range(n):\n",
        "  for j in range(i,n):\n",
        "    print(\"*\",end=\" \")\n",
        "  print()"
      ],
      "metadata": {
        "colab": {
          "base_uri": "https://localhost:8080/"
        },
        "id": "1iL0vLrxQGl7",
        "outputId": "c4e85d7f-4671-4c13-ac26-c726a90364ad"
      },
      "execution_count": null,
      "outputs": [
        {
          "output_type": "stream",
          "name": "stdout",
          "text": [
            "* * * * * \n",
            "* * * * \n",
            "* * * \n",
            "* * \n",
            "* \n"
          ]
        }
      ]
    },
    {
      "cell_type": "code",
      "source": [
        "n=5\n",
        "for i in range(n):\n",
        "  for j in range(i,n):\n",
        "    print(\" \",end=\" \")\n",
        "  for j in range(i+1):\n",
        "    print(\"*\",end=\" \")\n",
        "  print()"
      ],
      "metadata": {
        "colab": {
          "base_uri": "https://localhost:8080/"
        },
        "id": "iOwNQM1lQfzi",
        "outputId": "103bb4a3-7714-41e5-c5b8-6191be1f6510"
      },
      "execution_count": null,
      "outputs": [
        {
          "output_type": "stream",
          "name": "stdout",
          "text": [
            "          * \n",
            "        * * \n",
            "      * * * \n",
            "    * * * * \n",
            "  * * * * * \n"
          ]
        }
      ]
    },
    {
      "cell_type": "code",
      "source": [
        "for i in range(4):\n",
        "  for j in range(i,4):\n",
        "    print(\"*\",end=\" \")\n",
        "  print()"
      ],
      "metadata": {
        "colab": {
          "base_uri": "https://localhost:8080/"
        },
        "id": "mfuZElcfRbhm",
        "outputId": "7a009d78-9e29-4bbe-bed3-f84068bbbfd9"
      },
      "execution_count": null,
      "outputs": [
        {
          "output_type": "stream",
          "name": "stdout",
          "text": [
            "* * * * \n",
            "* * * \n",
            "* * \n",
            "* \n"
          ]
        }
      ]
    },
    {
      "cell_type": "code",
      "source": [
        "n=4\n",
        "for i in range(n):\n",
        "  for j in range(i+1):\n",
        "    print(\" \",end=\" \")\n",
        "  for j in range(i,n):\n",
        "    print(\"*\",end=\" \")\n",
        "  print()\n",
        "\n",
        "\n"
      ],
      "metadata": {
        "colab": {
          "base_uri": "https://localhost:8080/"
        },
        "id": "4blrfJsXSaR9",
        "outputId": "1ba659f6-6f48-4e12-f6df-4afb4081ea49"
      },
      "execution_count": null,
      "outputs": [
        {
          "output_type": "stream",
          "name": "stdout",
          "text": [
            "  * * * * \n",
            "    * * * \n",
            "      * * \n",
            "        * \n"
          ]
        }
      ]
    },
    {
      "cell_type": "code",
      "source": [
        "for i in range(4):\n",
        "  for j in range(i,4):\n",
        "    print(\" \",end=\" \")\n",
        "  for j in range(i+1):\n",
        "    print(\"*\",end=\" \")\n",
        "  for j in range(i):\n",
        "    print(\"*\",end=\" \")\n",
        "  print()"
      ],
      "metadata": {
        "colab": {
          "base_uri": "https://localhost:8080/"
        },
        "id": "kGjxy0zBTaLq",
        "outputId": "5f338d12-3e17-4438-bf2b-26df1f4eea37"
      },
      "execution_count": null,
      "outputs": [
        {
          "output_type": "stream",
          "name": "stdout",
          "text": [
            "        * \n",
            "      * * * \n",
            "    * * * * * \n",
            "  * * * * * * * \n"
          ]
        }
      ]
    },
    {
      "cell_type": "code",
      "source": [
        "n=4\n",
        "for i in range(n):\n",
        "  for j in range(i+1):\n",
        "    print(\" \",end=\" \")\n",
        "  for j in range(i,n):\n",
        "    print(\"*\",end=\" \")\n",
        "  for j in range(i,3):\n",
        "    print(\"*\",end=\" \")\n",
        "  print()\n"
      ],
      "metadata": {
        "colab": {
          "base_uri": "https://localhost:8080/"
        },
        "id": "QPGBbKgQVANb",
        "outputId": "afba6666-ac1c-4edf-e1c2-9b1d9b8aa70a"
      },
      "execution_count": null,
      "outputs": [
        {
          "output_type": "stream",
          "name": "stdout",
          "text": [
            "  * * * * * * * \n",
            "    * * * * * \n",
            "      * * * \n",
            "        * \n"
          ]
        }
      ]
    },
    {
      "cell_type": "code",
      "source": [
        "n=3\n",
        "for i in range(n):\n",
        "  for j in range(i+1):\n",
        "    print(\"1\",end=\" \")\n",
        "  print()\n"
      ],
      "metadata": {
        "id": "t1tz5_40W1CU",
        "colab": {
          "base_uri": "https://localhost:8080/"
        },
        "outputId": "e00f81be-089c-4a95-fd6d-127c6cd7f30a"
      },
      "execution_count": null,
      "outputs": [
        {
          "output_type": "stream",
          "name": "stdout",
          "text": [
            "1 \n",
            "1 1 \n",
            "1 1 1 \n"
          ]
        }
      ]
    },
    {
      "cell_type": "code",
      "source": [
        "n=3\n",
        "p=1\n",
        "for i in range(4):\n",
        "  for j in range(i+1):\n",
        "    print(p,end=\" \")\n",
        "  print()\n",
        "  p+=1\n"
      ],
      "metadata": {
        "colab": {
          "base_uri": "https://localhost:8080/"
        },
        "id": "Ltsb0eDXtlGu",
        "outputId": "ed71a00a-4e14-4b17-8199-d12c66d611a4"
      },
      "execution_count": null,
      "outputs": [
        {
          "output_type": "stream",
          "name": "stdout",
          "text": [
            "1 \n",
            "2 2 \n",
            "3 3 3 \n",
            "4 4 4 4 \n"
          ]
        }
      ]
    },
    {
      "cell_type": "code",
      "source": [
        "n=3\n",
        "p=1\n",
        "for i in range(4):\n",
        "  for j in range(i+1):\n",
        "    print(p,end=\" \")\n",
        "    p+=1\n",
        "  print()\n"
      ],
      "metadata": {
        "colab": {
          "base_uri": "https://localhost:8080/"
        },
        "id": "uijIa2Xdt9N8",
        "outputId": "c65f1244-d54a-4926-99f1-aabc42bce8fb"
      },
      "execution_count": null,
      "outputs": [
        {
          "output_type": "stream",
          "name": "stdout",
          "text": [
            "1 \n",
            "2 3 \n",
            "4 5 6 \n",
            "7 8 9 10 \n"
          ]
        }
      ]
    },
    {
      "cell_type": "code",
      "source": [
        "n=3\n",
        "p=1\n",
        "for i in range(4):\n",
        "  for j in range(i+1):\n",
        "    print(p,end=\" \")\n",
        "  p+=1\n",
        "  print()"
      ],
      "metadata": {
        "colab": {
          "base_uri": "https://localhost:8080/"
        },
        "id": "Q65AzD6Wulbl",
        "outputId": "bf8ef929-cdff-45bf-89ad-163e65c00166"
      },
      "execution_count": null,
      "outputs": [
        {
          "output_type": "stream",
          "name": "stdout",
          "text": [
            "1 \n",
            "2 2 \n",
            "3 3 3 \n",
            "4 4 4 4 \n"
          ]
        }
      ]
    },
    {
      "cell_type": "code",
      "source": [
        "n=3\n",
        "for i in range(4):\n",
        "  p=1\n",
        "  for j in range(i+1):\n",
        "    print(p,end=\" \")\n",
        "    p+=1\n",
        "  print()"
      ],
      "metadata": {
        "colab": {
          "base_uri": "https://localhost:8080/"
        },
        "id": "lH-ywuZXuppJ",
        "outputId": "a433e3c6-c6ca-4821-ec8d-30f2cdd86b85"
      },
      "execution_count": null,
      "outputs": [
        {
          "output_type": "stream",
          "name": "stdout",
          "text": [
            "1 \n",
            "1 2 \n",
            "1 2 3 \n",
            "1 2 3 4 \n"
          ]
        }
      ]
    },
    {
      "cell_type": "code",
      "source": [
        "n=4\n",
        "p=1\n",
        "for i in range(n):\n",
        "  for j in range(i,n):\n",
        "    print(p,end=\" \")\n",
        "  p+=1\n",
        "  print()"
      ],
      "metadata": {
        "colab": {
          "base_uri": "https://localhost:8080/"
        },
        "id": "RQkZbU-uvDaB",
        "outputId": "fe804b12-e4a1-4194-d9ca-30c60e104808"
      },
      "execution_count": null,
      "outputs": [
        {
          "output_type": "stream",
          "name": "stdout",
          "text": [
            "1 1 1 1 \n",
            "2 2 2 \n",
            "3 3 \n",
            "4 \n"
          ]
        }
      ]
    },
    {
      "cell_type": "code",
      "source": [
        "n=4\n",
        "p=1\n",
        "for i in range(n):\n",
        "  for j in range(i):\n",
        "    print(\" \",end=\" \")\n",
        "  for j in range(i,n):\n",
        "    print(p,end=\" \")\n",
        "  p+=1\n",
        "  print()"
      ],
      "metadata": {
        "colab": {
          "base_uri": "https://localhost:8080/"
        },
        "id": "NfB-i9rOvavH",
        "outputId": "fbbb18e9-d21a-4730-f30a-69f9724b5ab5"
      },
      "execution_count": null,
      "outputs": [
        {
          "output_type": "stream",
          "name": "stdout",
          "text": [
            "1 1 1 1 \n",
            "  2 2 2 \n",
            "    3 3 \n",
            "      4 \n"
          ]
        }
      ]
    },
    {
      "cell_type": "code",
      "source": [
        "n=3\n",
        "p=1\n",
        "for i in range(n):\n",
        "  for j in range(i,n):\n",
        "    print(\" \",end=\" \")\n",
        "  for j in range(i+1):\n",
        "    print(p,end=\" \")\n",
        "  for j in range(i):\n",
        "    print(p,end=\" \")\n",
        "  p+=1\n",
        "  print()"
      ],
      "metadata": {
        "colab": {
          "base_uri": "https://localhost:8080/"
        },
        "id": "H7SGB9mev3ft",
        "outputId": "2bb1ae95-b37a-41c3-db72-5c4280754f2e"
      },
      "execution_count": null,
      "outputs": [
        {
          "output_type": "stream",
          "name": "stdout",
          "text": [
            "      1 \n",
            "    2 2 2 \n",
            "  3 3 3 3 3 \n"
          ]
        }
      ]
    },
    {
      "cell_type": "code",
      "source": [
        "p=1\n",
        "for i in range(3):\n",
        "  for j in range(i+1):\n",
        "    print(\" \",end=\" \")\n",
        "  for j in range(i,3):\n",
        "    print(p,end=\" \")\n",
        "  for j in range(i,2):\n",
        "    print(p,end=\" \")\n",
        "  p+=1\n",
        "  print()\n"
      ],
      "metadata": {
        "colab": {
          "base_uri": "https://localhost:8080/"
        },
        "id": "jqYNLiRewXq2",
        "outputId": "20801928-7822-4de2-d9ef-1e6a9e616176"
      },
      "execution_count": null,
      "outputs": [
        {
          "output_type": "stream",
          "name": "stdout",
          "text": [
            "  1 1 1 1 1 \n",
            "    2 2 2 \n",
            "      3 \n"
          ]
        }
      ]
    },
    {
      "cell_type": "code",
      "source": [
        "n=5\n",
        "p=5\n",
        "for i in range(n):\n",
        "  for j in range(i+1):\n",
        "    print(p,end=\" \")\n",
        "  p-=1\n",
        "  print()\n"
      ],
      "metadata": {
        "colab": {
          "base_uri": "https://localhost:8080/"
        },
        "id": "bQv8x_T5x1cE",
        "outputId": "52a6b3ea-c693-4550-9567-adbd7b669185"
      },
      "execution_count": null,
      "outputs": [
        {
          "output_type": "stream",
          "name": "stdout",
          "text": [
            "5 \n",
            "4 4 \n",
            "3 3 3 \n",
            "2 2 2 2 \n",
            "1 1 1 1 1 \n"
          ]
        }
      ]
    },
    {
      "cell_type": "code",
      "source": [
        "n=5\n",
        "p=5\n",
        "for i in range(n):\n",
        "  for j in range(i+1):\n",
        "    print(\" \",end=\" \")\n",
        "  for j in range(i,n):\n",
        "    print(p,end=\" \")\n",
        "  p-=1\n",
        "  print()\n"
      ],
      "metadata": {
        "colab": {
          "base_uri": "https://localhost:8080/"
        },
        "id": "0OQOwEqBzx85",
        "outputId": "c1ffe61f-e225-428a-ab1a-441d6ef0321f"
      },
      "execution_count": null,
      "outputs": [
        {
          "output_type": "stream",
          "name": "stdout",
          "text": [
            "  5 5 5 5 5 \n",
            "    4 4 4 4 \n",
            "      3 3 3 \n",
            "        2 2 \n",
            "          1 \n"
          ]
        }
      ]
    },
    {
      "cell_type": "code",
      "source": [
        "n=5\n",
        "p=5\n",
        "for i in range(n):\n",
        "  for j in range(i,n):\n",
        "    print(\" \",end=\" \")\n",
        "  for j in range(i+1):\n",
        "    print(p,end=\" \")\n",
        "  for j in range(i):\n",
        "    print(p,end=\" \")\n",
        "  p-=1\n",
        "  print()"
      ],
      "metadata": {
        "colab": {
          "base_uri": "https://localhost:8080/"
        },
        "id": "GsiF1AMv0Fz9",
        "outputId": "93df3836-5d9c-4f0c-836a-9ef75a0171c1"
      },
      "execution_count": null,
      "outputs": [
        {
          "output_type": "stream",
          "name": "stdout",
          "text": [
            "          5 \n",
            "        4 4 4 \n",
            "      3 3 3 3 3 \n",
            "    2 2 2 2 2 2 2 \n",
            "  1 1 1 1 1 1 1 1 1 \n"
          ]
        }
      ]
    },
    {
      "cell_type": "code",
      "source": [
        "n=4\n",
        "p=4\n",
        "for i in range(n):\n",
        "  for j in range(i+1):\n",
        "    print(\" \",end=\" \")\n",
        "  for j in range(i,n):\n",
        "    print(p,end=\" \")\n",
        "  for j in range(i+1,n):\n",
        "     print(p,end=\" \")\n",
        "  p-=1\n",
        "  print()"
      ],
      "metadata": {
        "colab": {
          "base_uri": "https://localhost:8080/"
        },
        "id": "BPyWqxkN0xMk",
        "outputId": "5f81baf9-0b4f-495c-f445-decc62e25c48"
      },
      "execution_count": null,
      "outputs": [
        {
          "output_type": "stream",
          "name": "stdout",
          "text": [
            "  4 4 4 4 4 4 4 \n",
            "    3 3 3 3 3 \n",
            "      2 2 2 \n",
            "        1 \n"
          ]
        }
      ]
    },
    {
      "cell_type": "code",
      "source": [
        "n=4\n",
        "p=0\n",
        "for i in range(n):\n",
        "  for j in range(i+1):\n",
        "    print(p,end=\" \")\n",
        "  p+=2\n",
        "  print()\n"
      ],
      "metadata": {
        "colab": {
          "base_uri": "https://localhost:8080/"
        },
        "id": "FvVGcpl31v8Z",
        "outputId": "7bf757ae-4db8-4ded-b5f4-6882dd2e5296"
      },
      "execution_count": null,
      "outputs": [
        {
          "output_type": "stream",
          "name": "stdout",
          "text": [
            "0 \n",
            "2 2 \n",
            "4 4 4 \n",
            "6 6 6 6 \n"
          ]
        }
      ]
    },
    {
      "cell_type": "code",
      "source": [
        "n=5\n",
        "for i in range(n):\n",
        "  for j in range(i+1):\n",
        "    if i%2==0:\n",
        "      print(\"1\",end=\" \")\n",
        "    else:\n",
        "      print(\"2\",end=\" \")\n",
        "  print()"
      ],
      "metadata": {
        "colab": {
          "base_uri": "https://localhost:8080/"
        },
        "id": "34wz87o-2vh4",
        "outputId": "5ac202a4-2c15-4cc9-cc27-681f5c136141"
      },
      "execution_count": null,
      "outputs": [
        {
          "output_type": "stream",
          "name": "stdout",
          "text": [
            "1 \n",
            "2 2 \n",
            "1 1 1 \n",
            "2 2 2 2 \n",
            "1 1 1 1 1 \n"
          ]
        }
      ]
    },
    {
      "cell_type": "code",
      "source": [
        "n=5\n",
        "for i in range(n):\n",
        "  for j in range(i,n):\n",
        "    print(\" \",end=\" \")\n",
        "  for j in range(i+1):\n",
        "    if i%2==0:\n",
        "      print(\"a\",end=\" \")\n",
        "    else:\n",
        "      print(\"b\",end=\" \")\n",
        "  for j in range(i):\n",
        "    if i%2==0:\n",
        "      print(\"a\",end=\" \")\n",
        "    else:\n",
        "      print(\"b\",end=\" \")\n",
        "  print()"
      ],
      "metadata": {
        "colab": {
          "base_uri": "https://localhost:8080/"
        },
        "id": "BTsS1ims3Jld",
        "outputId": "3306a0c0-bc86-4171-d4fb-843803d000b6"
      },
      "execution_count": null,
      "outputs": [
        {
          "output_type": "stream",
          "name": "stdout",
          "text": [
            "          a \n",
            "        b b b \n",
            "      a a a a a \n",
            "    b b b b b b b \n",
            "  a a a a a a a a a \n"
          ]
        }
      ]
    },
    {
      "cell_type": "code",
      "source": [
        "n=4\n",
        "for i in range(n):\n",
        "  for j in range(i+1):\n",
        "    print(\" \",end=\" \")\n",
        "  p=1\n",
        "  for j in range(i,n):\n",
        "    print(p,end=\" \")\n",
        "    p+=1\n",
        "  print()\n"
      ],
      "metadata": {
        "colab": {
          "base_uri": "https://localhost:8080/"
        },
        "id": "OCZLLX5T4O3c",
        "outputId": "5f3697df-1134-4b3d-ec49-03ec5621bba1"
      },
      "execution_count": null,
      "outputs": [
        {
          "output_type": "stream",
          "name": "stdout",
          "text": [
            "  1 2 3 4 \n",
            "    1 2 3 \n",
            "      1 2 \n",
            "        1 \n"
          ]
        }
      ]
    },
    {
      "cell_type": "code",
      "source": [
        "n=5\n",
        "p=1\n",
        "for i in range(n):\n",
        "  for j in range(i,n):\n",
        "    print(\" \",end=\" \")\n",
        "  for j in range(i+1):\n",
        "    print(p,end=\" \")\n",
        "  for j in range(i):\n",
        "    print(p,end=\" \")\n",
        "  p+=1\n",
        "  print()\n",
        "for i in range(4):\n",
        "  for j in range(i+2):\n",
        "    print(\" \",end=\" \")\n",
        "  for j in range(i,4):\n",
        "    print(p,end=\" \")\n",
        "  for j in range(i,3):\n",
        "    print(p,end=\" \")\n",
        "  p+=1\n",
        "  print()"
      ],
      "metadata": {
        "colab": {
          "base_uri": "https://localhost:8080/"
        },
        "id": "hY3pRz4N4zUN",
        "outputId": "50ea3f64-d064-4304-c901-a115f53a9814"
      },
      "execution_count": null,
      "outputs": [
        {
          "output_type": "stream",
          "name": "stdout",
          "text": [
            "          1 \n",
            "        2 2 2 \n",
            "      3 3 3 3 3 \n",
            "    4 4 4 4 4 4 4 \n",
            "  5 5 5 5 5 5 5 5 5 \n",
            "    6 6 6 6 6 6 6 \n",
            "      7 7 7 7 7 \n",
            "        8 8 8 \n",
            "          9 \n"
          ]
        }
      ]
    },
    {
      "cell_type": "code",
      "source": [
        "\n",
        "for i in range(4):\n",
        "  for j in range(i,n):\n",
        "    print(\" \",end=\" \")\n",
        "  for j in range(i+1):\n",
        "    print(j+1,end=\" \")\n",
        "  for j in range(i):\n",
        "    print(i+j+2,end=\" \")\n",
        "  print()\n",
        "\n",
        "\n"
      ],
      "metadata": {
        "colab": {
          "base_uri": "https://localhost:8080/"
        },
        "id": "ipK9vPML6snW",
        "outputId": "e90c6e1c-acd1-4a09-bcf1-4c93040f2f12"
      },
      "execution_count": null,
      "outputs": [
        {
          "output_type": "stream",
          "name": "stdout",
          "text": [
            "          1 \n",
            "        1 2 3 \n",
            "      1 2 3 4 5 \n",
            "    1 2 3 4 5 6 7 \n"
          ]
        }
      ]
    },
    {
      "cell_type": "code",
      "source": [
        "\n",
        "for i in range(5):\n",
        "  p=1\n",
        "  for j in range(i+1):\n",
        "    print(p,end=\" \")\n",
        "    p+=1\n",
        "  print()\n",
        "for i in range(4):\n",
        "  r=1\n",
        "  for j in range(i,4):\n",
        "    print(r,end=\" \")\n",
        "    r+=1\n",
        "  print()\n",
        "\n",
        "for i in range(5):\n",
        "    p = 1\n",
        "    for k in range(4 - i):\n",
        "        print(\" \", end=\" \")\n",
        "    for j in range(i + 1):\n",
        "        print(p, end=\" \")\n",
        "        p += 1\n",
        "    print()\n",
        "\n",
        "for i in range(4):\n",
        "    r = 1\n",
        "    for k in range(i + 1):\n",
        "        print(\" \", end=\" \")\n",
        "    for j in range(4 - i):\n",
        "        print(r, end=\" \")\n",
        "        r += 1\n",
        "    print()\n"
      ],
      "metadata": {
        "colab": {
          "base_uri": "https://localhost:8080/"
        },
        "id": "P9oVE1Et9W6j",
        "outputId": "28ab6ad2-aded-4e6b-fc83-a2689e92c3f3"
      },
      "execution_count": 118,
      "outputs": [
        {
          "output_type": "stream",
          "name": "stdout",
          "text": [
            "1 \n",
            "1 2 \n",
            "1 2 3 \n",
            "1 2 3 4 \n",
            "1 2 3 4 5 \n",
            "1 2 3 4 \n",
            "1 2 3 \n",
            "1 2 \n",
            "1 \n",
            "        1 \n",
            "      1 2 \n",
            "    1 2 3 \n",
            "  1 2 3 4 \n",
            "1 2 3 4 5 \n",
            "  1 2 3 4 \n",
            "    1 2 3 \n",
            "      1 2 \n",
            "        1 \n"
          ]
        }
      ]
    },
    {
      "cell_type": "code",
      "source": [
        "# Butterfly Pattern using for loop\n",
        "def butterfly_pattern(n):\n",
        "    # Upper part of the butterfly\n",
        "    for i in range(1, n + 1):\n",
        "        # Print left side stars\n",
        "        for j in range(i):\n",
        "            print('*', end='')\n",
        "        # Print spaces in the middle\n",
        "        for j in range(2 * (n - i)):\n",
        "            print(' ', end='')\n",
        "        # Print right side stars\n",
        "        for j in range(i):\n",
        "            print('*', end='')\n",
        "        print()\n",
        "\n",
        "    # Lower part of the butterfly\n",
        "    for i in range(n, 0, -1):\n",
        "        # Print left side stars\n",
        "        for j in range(i):\n",
        "            print('*', end='')\n",
        "        # Print spaces in the middle\n",
        "        for j in range(2 * (n - i)):\n",
        "            print(' ', end='')\n",
        "        # Print right side stars\n",
        "        for j in range(i):\n",
        "            print('*', end='')\n",
        "        print()\n",
        "\n",
        "# Size of the butterfly pattern\n",
        "n = 5\n",
        "butterfly_pattern(n)\n"
      ],
      "metadata": {
        "id": "hfO-HjKHCur-",
        "colab": {
          "base_uri": "https://localhost:8080/"
        },
        "outputId": "aa49c2e3-5ad1-4323-95e8-503b50bfd41b"
      },
      "execution_count": 119,
      "outputs": [
        {
          "output_type": "stream",
          "name": "stdout",
          "text": [
            "*        *\n",
            "**      **\n",
            "***    ***\n",
            "****  ****\n",
            "**********\n",
            "**********\n",
            "****  ****\n",
            "***    ***\n",
            "**      **\n",
            "*        *\n"
          ]
        }
      ]
    },
    {
      "cell_type": "code",
      "source": [
        "# Butterfly Pattern using for loop\n",
        "def butterfly_pattern(n):\n",
        "    # Upper part of the butterfly\n",
        "    for i in range(1, n + 1):\n",
        "        # Print left side stars\n",
        "        p=1\n",
        "        for j in range(i):\n",
        "            print(p, end=' ')\n",
        "            p+=1\n",
        "        # Print spaces in the middle\n",
        "        for j in range(2 * (n - i)):\n",
        "            print(' ', end=' ')\n",
        "        # Print right side stars\n",
        "        r=1\n",
        "        for j in range(i):\n",
        "            print(r, end=' ')\n",
        "            r+=1\n",
        "        print()\n",
        "\n",
        "          # Lower part of the butterfly\n",
        "    for i in range(4, 0, -1):\n",
        "        # Print left side stars\n",
        "        q=1\n",
        "        for j in range(i):\n",
        "            print(q, end=' ')\n",
        "            q+=1\n",
        "        # Print spaces in the middle\n",
        "        for j in range(2 * (n - i)):\n",
        "            print(' ', end=' ')\n",
        "        # Print right side stars\n",
        "        t=1\n",
        "        for j in range(i):\n",
        "            print(t, end=' ')\n",
        "            t+=1\n",
        "        print()\n",
        "\n",
        "# Size of the butterfly pattern\n",
        "n = 5\n",
        "butterfly_pattern(n)\n"
      ],
      "metadata": {
        "colab": {
          "base_uri": "https://localhost:8080/"
        },
        "id": "ch68uA9fNxaY",
        "outputId": "8f39db8a-1307-440b-8ea6-9f02110fd526"
      },
      "execution_count": 135,
      "outputs": [
        {
          "output_type": "stream",
          "name": "stdout",
          "text": [
            "1                 1 \n",
            "1 2             1 2 \n",
            "1 2 3         1 2 3 \n",
            "1 2 3 4     1 2 3 4 \n",
            "1 2 3 4 5 1 2 3 4 5 \n",
            "1 2 3 4     1 2 3 4 \n",
            "1 2 3         1 2 3 \n",
            "1 2             1 2 \n",
            "1                 1 \n"
          ]
        }
      ]
    },
    {
      "cell_type": "code",
      "source": [],
      "metadata": {
        "id": "WgORtUqVN8WY"
      },
      "execution_count": null,
      "outputs": []
    },
    {
      "cell_type": "code",
      "source": [],
      "metadata": {
        "id": "tvT0fXRpPwu-"
      },
      "execution_count": null,
      "outputs": []
    }
  ]
}